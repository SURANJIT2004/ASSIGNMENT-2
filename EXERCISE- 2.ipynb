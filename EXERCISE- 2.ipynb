{
 "cells": [
  {
   "cell_type": "markdown",
   "id": "127b7954",
   "metadata": {},
   "source": [
    "SOME BASIC QUESTION AND SOME PATTERN QUESTION"
   ]
  },
  {
   "cell_type": "code",
   "execution_count": 1,
   "id": "cd85c88f",
   "metadata": {},
   "outputs": [
    {
     "name": "stdout",
     "output_type": "stream",
     "text": [
      "Suranjit Shaw\n"
     ]
    }
   ],
   "source": [
    "name=(\"Suranjit Shaw\") \n",
    "print(name)"
   ]
  },
  {
   "cell_type": "code",
   "execution_count": 2,
   "id": "650f9219",
   "metadata": {},
   "outputs": [
    {
     "name": "stdout",
     "output_type": "stream",
     "text": [
      "66\n",
      "66\n",
      "67.58\n",
      "3.0\n",
      "14.879731724872837\n",
      "5.491853096329675\n",
      "3.0\n",
      "2.0\n",
      "11.0\n",
      "0.5235987755982988\n",
      "90.0\n"
     ]
    }
   ],
   "source": [
    " import math\n",
    "print(math.ceil(65.65))\n",
    "print(math.ceil(65.47))\n",
    "print(math.fabs(-67.58))\n",
    "print(math.fabs(3))\n",
    "print(math.exp(2.7))\n",
    "print(math.log(45,2))\n",
    "print(math.log10(1000))\n",
    "print(math.pow(4,1/2))\n",
    "print(math.sqrt(121))\n",
    "print(math.radians(30))\n",
    "print(math.degrees(math.pi/2))\n"
   ]
  },
  {
   "cell_type": "code",
   "execution_count": 3,
   "id": "4171f681",
   "metadata": {},
   "outputs": [
    {
     "name": "stdout",
     "output_type": "stream",
     "text": [
      "5.108479138851783\n"
     ]
    }
   ],
   "source": [
    "import random\n",
    "x= random.random()+5 \n",
    "print(x)"
   ]
  },
  {
   "cell_type": "code",
   "execution_count": 4,
   "id": "0b50c68a",
   "metadata": {},
   "outputs": [
    {
     "name": "stdout",
     "output_type": "stream",
     "text": [
      "5.4\n",
      "15\n",
      "H\n",
      "-25\n",
      "57.0\n",
      "(1+2j)\n",
      "(2, 1)\n",
      "57.0\n",
      "81\n",
      "97\n",
      "29\n",
      "b\n"
     ]
    }
   ],
   "source": [
    "print(abs(-5.4))\n",
    "print(abs(15))\n",
    "print(chr(72))\n",
    "print(round(-24.9))\n",
    "print(float(57))\n",
    "print(complex('1+2j'))\n",
    "print(divmod(5,2))\n",
    "print(float(57))\n",
    "print(pow(9,2))\n",
    "print(max(97,88,60))\n",
    "print(min(55,29,99))\n",
    "print(max('a','b','AB'))"
   ]
  },
  {
   "cell_type": "code",
   "execution_count": 5,
   "id": "e1ac75e7",
   "metadata": {},
   "outputs": [
    {
     "name": "stdout",
     "output_type": "stream",
     "text": [
      "       *        \n",
      "   *   *   *    \n",
      "*  *   *   *  * \n",
      "   *   *   *    \n",
      "       *        \n"
     ]
    }
   ],
   "source": [
    "print('       *        ')\n",
    "print('   *   *   *    ')\n",
    "print('*  *   *   *  * ')\n",
    "print('   *   *   *    ')\n",
    "print('       *        ')"
   ]
  },
  {
   "cell_type": "code",
   "execution_count": 6,
   "id": "9f07ee4d",
   "metadata": {},
   "outputs": [
    {
     "name": "stdout",
     "output_type": "stream",
     "text": [
      "$ $ $ $ $\n",
      "$       $\n",
      "$       $\n",
      "$       $\n",
      "$ $ $ $ $\n"
     ]
    }
   ],
   "source": [
    "print('$ $ $ $ $')\n",
    "print('$       $')\n",
    "print('$       $')\n",
    "print('$       $')\n",
    "print('$ $ $ $ $')"
   ]
  },
  {
   "cell_type": "code",
   "execution_count": 7,
   "id": "54b3b155",
   "metadata": {},
   "outputs": [
    {
     "name": "stdout",
     "output_type": "stream",
     "text": [
      "5\n",
      "30\n",
      "0\n",
      "30\n",
      "30\n"
     ]
    }
   ],
   "source": [
    "def nMultiple(a=0, num=1):\n",
    "    return a*num\n",
    "print(nMultiple(5))\n",
    "print(nMultiple(5,6))\n",
    "print(nMultiple(num=7))\n",
    "print(nMultiple(num=6, a=5))\n",
    "print(nMultiple(5, num=6))"
   ]
  },
  {
   "cell_type": "code",
   "execution_count": 8,
   "id": "d42a7cc4",
   "metadata": {},
   "outputs": [
    {
     "name": "stdout",
     "output_type": "stream",
     "text": [
      "a=  8\n",
      "b=  5\n"
     ]
    }
   ],
   "source": [
    "def test(a,b):\n",
    "    a=a+b\n",
    "    b=a-b\n",
    "    a=a-b\n",
    "    print('a= ', a)\n",
    "    print('b= ', b)\n",
    "test(5,8)    "
   ]
  },
  {
   "cell_type": "code",
   "execution_count": 9,
   "id": "33683ec3",
   "metadata": {},
   "outputs": [
    {
     "name": "stdout",
     "output_type": "stream",
     "text": [
      "None\n"
     ]
    }
   ],
   "source": [
    "def func():\n",
    "    pass\n",
    "a = func()\n",
    "print(a)"
   ]
  },
  {
   "cell_type": "code",
   "execution_count": 10,
   "id": "2ab12448",
   "metadata": {},
   "outputs": [
    {
     "name": "stdout",
     "output_type": "stream",
     "text": [
      "Enter the first side: 5\n",
      "Enter the second side: 2\n",
      "Enter the third side: 1\n",
      "Invalid triangle. The sum of any two sides must be greater than the third.\n"
     ]
    }
   ],
   "source": [
    "def calculate_area(a, b, c):\n",
    "\n",
    "  if (a + b <= c) or (a + c <= b) or (b + c <= a):\n",
    "    return None  # Invalid triangle\n",
    "\n",
    "  s = (a + b + c) / 2\n",
    "\n",
    "  area = (s * (s - a) * (s - b) * (s - c)) ** 0.5\n",
    "\n",
    "  return area\n",
    "\n",
    "# Example usage\n",
    "side1 = float(input(\"Enter the first side: \"))\n",
    "side2 = float(input(\"Enter the second side: \"))\n",
    "side3 = float(input(\"Enter the third side: \"))\n",
    "\n",
    "area = calculate_area(side1, side2, side3)\n",
    "\n",
    "if area is None:\n",
    "  print(\"Invalid triangle. The sum of any two sides must be greater than the third.\")\n",
    "else:\n",
    "  print(\"The area of the triangle is:\", area)\n"
   ]
  },
  {
   "cell_type": "code",
   "execution_count": 11,
   "id": "885dcc8d",
   "metadata": {},
   "outputs": [
    {
     "name": "stdout",
     "output_type": "stream",
     "text": [
      "True\n"
     ]
    }
   ],
   "source": [
    "grade=\"GRadr\"\n",
    "is_uppercase = 'A' <= grade <= 'Z'\n",
    "print(is_uppercase)\n"
   ]
  },
  {
   "cell_type": "code",
   "execution_count": 12,
   "id": "0a87dac3",
   "metadata": {},
   "outputs": [
    {
     "name": "stdout",
     "output_type": "stream",
     "text": [
      "Enter the No. 2\n",
      "False  :  2 is a perfect No.\n"
     ]
    }
   ],
   "source": [
    "def is_perfect_number(n):\n",
    "    if n <= 1:\n",
    "         return False\n",
    " # Find the sum of the divisors of n (excluding n itself)\n",
    "    sum_of_divisors = 1\n",
    "    for i in range(2, int(n**0.5) + 1):\n",
    "          if n % i == 0:\n",
    "                sum_of_divisors += i\n",
    "                if i * i != n:\n",
    "                    sum_of_divisors += n // i\n",
    "        \n",
    "    return sum_of_divisors == n\n",
    "n=int(input(\"Enter the No. \"))\n",
    "print(is_perfect_number(n), \" : \" ,n,\"is a perfect No.\")\n",
    "\n"
   ]
  },
  {
   "cell_type": "code",
   "execution_count": 13,
   "id": "30669c64",
   "metadata": {},
   "outputs": [
    {
     "name": "stdout",
     "output_type": "stream",
     "text": [
      "a= 2\n",
      "b= 5\n",
      "1\n"
     ]
    }
   ],
   "source": [
    "# 1st METHOD:\n",
    "\n",
    "\n",
    "import math\n",
    "\n",
    "def gcd(a, b):\n",
    "     return math.gcd(a, b)\n",
    "a=int(input(\"a= \"))\n",
    "b=int(input(\"b= \"))\n",
    "print(math.gcd(a,b))"
   ]
  },
  {
   "cell_type": "code",
   "execution_count": 14,
   "id": "8227f3b8",
   "metadata": {},
   "outputs": [
    {
     "name": "stdout",
     "output_type": "stream",
     "text": [
      "Enter  a: 5\n",
      "Enter  b: 5\n",
      "not coprime\n"
     ]
    }
   ],
   "source": [
    "# 2nd METHOD:\n",
    "\n",
    "\n",
    "def gcd(a, b):\n",
    "    while(a > 0 and b > 0):\n",
    "        if (a > b):\n",
    "            a = a % b\n",
    "        else:\n",
    "            b = b % a\n",
    " \n",
    "    if (a == 0):\n",
    "        return b\n",
    "    return a \n",
    "a=int(input('Enter  a: '))\n",
    "b=int(input('Enter  b: '))\n",
    "ans = gcd(a,b)\n",
    "if gcd(a,b)==1:\n",
    "    print(a,\",\",b, \"are coprime\")\n",
    "else:\n",
    "    print(\"not coprime\")\n",
    "    \n",
    "    "
   ]
  },
  {
   "cell_type": "code",
   "execution_count": 15,
   "id": "1b92274c",
   "metadata": {},
   "outputs": [
    {
     "name": "stdout",
     "output_type": "stream",
     "text": [
      "Enter  a: 5\n",
      "Enter  b: 5\n",
      "5\n"
     ]
    }
   ],
   "source": [
    "\n",
    "def gcd(a, b):\n",
    "    while(a > 0 and b > 0):\n",
    "        if (a > b):\n",
    "            a = a % b\n",
    "        else:\n",
    "            b = b % a\n",
    " \n",
    "    if (a == 0):\n",
    "        return b\n",
    "    return a \n",
    "a=int(input('Enter  a: '))\n",
    "b=int(input('Enter  b: '))\n",
    "ans = gcd(a,b)\n",
    "print(ans)"
   ]
  },
  {
   "cell_type": "code",
   "execution_count": 16,
   "id": "6478334b",
   "metadata": {},
   "outputs": [
    {
     "name": "stdout",
     "output_type": "stream",
     "text": [
      "1\n",
      "153\n",
      "370\n",
      "371\n",
      "407\n"
     ]
    }
   ],
   "source": [
    "def is_armstrong_number(num):\n",
    "    original_num = num\n",
    "    sum_of_cubes = 0\n",
    "    while num > 0:\n",
    "        digit = num % 10\n",
    "        sum_of_cubes += digit ** 3\n",
    "        num //= 10\n",
    "    return original_num == sum_of_cubes\n",
    "\n",
    "# Print Armstrong numbers between 1 and 1000\n",
    "for num in range(1, 1001):\n",
    "    if is_armstrong_number(num):\n",
    "        print(num)\n",
    "  \n",
    "       \n"
   ]
  },
  {
   "cell_type": "code",
   "execution_count": 17,
   "id": "85e88e84",
   "metadata": {},
   "outputs": [
    {
     "name": "stdout",
     "output_type": "stream",
     "text": [
      "enter the no. :5\n",
      "The sum of digits of 5 is: 5\n"
     ]
    }
   ],
   "source": [
    "def sum_of_digits(number):\n",
    "    sum_of_digits = 0\n",
    "    while number > 0:\n",
    "        last_digit = number % 10\n",
    "        sum_of_digits += last_digit\n",
    "        number //= 10\n",
    "    return sum_of_digits\n",
    "\n",
    "number = int(input(\"enter the no. :\"))\n",
    "result = sum_of_digits(number)\n",
    "print(f\"The sum of digits of {number} is: {result}\")\n"
   ]
  },
  {
   "cell_type": "code",
   "execution_count": 18,
   "id": "43043138",
   "metadata": {},
   "outputs": [
    {
     "name": "stdout",
     "output_type": "stream",
     "text": [
      "Enter the No.5\n",
      "5 is a palindrome: True\n"
     ]
    }
   ],
   "source": [
    "def is_palindrome(number):\n",
    "  \n",
    "    number_str = str(number)\n",
    "    return number_str == number_str[::-1]\n",
    "\n",
    "\n",
    "number = int(input(\"Enter the No.\"))\n",
    "result = is_palindrome(number)\n",
    "print(f\"{number} is a palindrome: {result}\")\n",
    "\n",
    "\n"
   ]
  },
  {
   "cell_type": "code",
   "execution_count": 19,
   "id": "14fae409",
   "metadata": {},
   "outputs": [
    {
     "name": "stdout",
     "output_type": "stream",
     "text": [
      "ENTER THE MARK :5\n",
      "Average\n"
     ]
    }
   ],
   "source": [
    "marks=int(input(\"ENTER THE MARK :\"))\n",
    "remarks = 'good' if marks >= 70 else 'Average'\n",
    "print(remarks)"
   ]
  },
  {
   "cell_type": "code",
   "execution_count": 2,
   "id": "d29d3beb",
   "metadata": {},
   "outputs": [
    {
     "name": "stdin",
     "output_type": "stream",
     "text": [
      "Enter the length of side 1:  1\n",
      "Enter the length of side 2:  1\n",
      "Enter the length of side 3:  1\n"
     ]
    },
    {
     "name": "stdout",
     "output_type": "stream",
     "text": [
      "The area of the triangle is: 0.4330127018922193\n"
     ]
    }
   ],
   "source": [
    "import math\n",
    "\n",
    "def areaTriangle(side1, side2, side3):\n",
    " \n",
    "    assert side1 + side2 > side3 and side1 + side3 > side2 and side2 + side3 > side1, \"Invalid triangle sides\"\n",
    "\n",
    "    s = (side1 + side2 + side3) / 2  # Semi-perimeter\n",
    "    area = math.sqrt(s * (s - side1) * (s - side2) * (s - side3))  # Heron's formula\n",
    "    return area\n",
    "\n",
    "def main():\n",
    "   \n",
    "    side1 = float(input(\"Enter the length of side 1: \"))\n",
    "    side2 = float(input(\"Enter the length of side 2: \"))\n",
    "    side3 = float(input(\"Enter the length of side 3: \"))\n",
    "    area = areaTriangle(side1, side2, side3)\n",
    "    print(\"The area of the triangle is:\", area)\n",
    "if __name__=='__main__':\n",
    "    main()"
   ]
  },
  {
   "cell_type": "code",
   "execution_count": 12,
   "id": "1ecdfe3d",
   "metadata": {},
   "outputs": [
    {
     "name": "stdout",
     "output_type": "stream",
     "text": [
      "195\n",
      "15\n",
      "100\n",
      "10\n",
      "75\n",
      "35\n",
      "10\n",
      "35\n",
      "28 20\n"
     ]
    }
   ],
   "source": [
    "total=0\n",
    "count=20\n",
    "while count > 5:\n",
    "    total+=count\n",
    "    count-=1\n",
    "print(total)    \n",
    "\n",
    "#2\n",
    "\n",
    "total=0\n",
    "N=5\n",
    "for i in range(1,N+1):\n",
    "    for j in range(1,i+1):\n",
    "        total+=1\n",
    "print(total)               \n",
    "        \n",
    "# 3\n",
    "\n",
    "total=0\n",
    "N=10\n",
    "for i in range(1,N+1):\n",
    "    for j in range(1,N+1):\n",
    "        total+=1\n",
    "print(total)               \n",
    "\n",
    "#4\n",
    "\n",
    "total=0\n",
    "N=5\n",
    "for i in range(1,N+1):\n",
    "    for j in range(1,i+1):\n",
    "        total+=1\n",
    "    total-=1\n",
    "print(total)               \n",
    " \n",
    "    #5\n",
    "    \n",
    "total=0\n",
    "N=5\n",
    "for i in range(1,N+1):\n",
    "    for j in range(1,N+1):\n",
    "        total+=i\n",
    "print(total)               \n",
    "    \n",
    "    #6\n",
    "    \n",
    "    \n",
    "total=0\n",
    "N=5\n",
    "for i in range(1,N+1):\n",
    "    for j in range(1,i+1): \n",
    "        total+=j\n",
    "print(total)               \n",
    "     \n",
    "    #7\n",
    "    \n",
    "total=0\n",
    "N=5\n",
    "for i in range(1,N+1):\n",
    "    for j in range(1,N+1):\n",
    "        total=i+j\n",
    "print(total)               \n",
    "     \n",
    "    #8\n",
    "    \n",
    "total=0\n",
    "N=5\n",
    "for i in range(1,N+1):\n",
    "    for j in range(1,i+1):\n",
    "        for k in range(1,j+1):\n",
    "            total+=1\n",
    "print(total)               \n",
    "    \n",
    "    #9\n",
    "    \n",
    "number = 72958476\n",
    "a,b=0,0\n",
    "while(number>0):\n",
    "    digit=number%10\n",
    "    if (digit % 2!=0):\n",
    "        a+=digit\n",
    "    else:\n",
    "        b+=digit\n",
    "    number//=10\n",
    "print(a,b)  "
   ]
  },
  {
   "cell_type": "code",
   "execution_count": 11,
   "id": "ab255c54",
   "metadata": {},
   "outputs": [
    {
     "name": "stdout",
     "output_type": "stream",
     "text": [
      "Enter the no. of rows : 6\n",
      "1 \n",
      "1 2 \n",
      "1 2 3 \n",
      "1 2 3 4 \n",
      "1 2 3 4 5 \n"
     ]
    }
   ],
   "source": [
    "N=int(input(\"Enter the no. of rows : \"))\n",
    "for i in range(1, N):\n",
    "    for j in range(1, i + 1):\n",
    "        print(j, end=\" \")\n",
    "    print()\n"
   ]
  },
  {
   "cell_type": "code",
   "execution_count": 10,
   "id": "2e1faabe",
   "metadata": {},
   "outputs": [
    {
     "name": "stdout",
     "output_type": "stream",
     "text": [
      " Enter the no. of rows9\n",
      " * \n",
      " *  * \n",
      " *  *  * \n",
      " *  *  *  * \n",
      " *  *  *  *  * \n",
      " *  *  *  *  *  * \n",
      " *  *  *  *  *  *  * \n",
      " *  *  *  *  *  *  *  * \n",
      " *  *  *  *  *  *  *  *  * \n"
     ]
    }
   ],
   "source": [
    "rows = int (input(\" Enter the no. of rows\"))\n",
    "for i in range(1, rows + 1):\n",
    "    for j in range(1, i + 1):\n",
    "        print(' * ', end='')\n",
    "    print()\n"
   ]
  },
  {
   "cell_type": "code",
   "execution_count": 8,
   "id": "1ad73374",
   "metadata": {},
   "outputs": [
    {
     "name": "stdout",
     "output_type": "stream",
     "text": [
      "      1 \n",
      "    2 1 2 \n",
      "  3 2 1 2 3 \n",
      "4 3 2 1 2 3 4 \n"
     ]
    }
   ],
   "source": [
    "def print_triangle_pattern(n):\n",
    "    for i in range(1, n + 1):\n",
    "        # Print leading spaces\n",
    "        print(\" \" * (n - i) * 2, end=\"\")\n",
    "\n",
    "        # Print numbers decreasing from i to 1\n",
    "        for j in range(i, 0, -1):\n",
    "            print(j, end=\" \")\n",
    "\n",
    "        # Print numbers increasing from 2 to i\n",
    "        for j in range(2, i + 1):\n",
    "            print(j, end=\" \")\n",
    "\n",
    "        print()  # Move to the next line\n",
    "\n",
    "# Test the function with n = 4\n",
    "print_triangle_pattern(4)\n",
    "\n",
    "        \n",
    "         "
   ]
  },
  {
   "cell_type": "code",
   "execution_count": 7,
   "id": "d33d0983",
   "metadata": {},
   "outputs": [
    {
     "name": "stdout",
     "output_type": "stream",
     "text": [
      "5   4   3   2   1   \n",
      "4   3   2   1   \n",
      "3   2   1   \n",
      "2   1   \n",
      "1   \n"
     ]
    }
   ],
   "source": [
    "def print_reverse_triangle_pattern(n):\n",
    "    for i in range(n, 0, -1):\n",
    "        # Print numbers decreasing from i to 1\n",
    "        for j in range(i, 0, -1):\n",
    "            print(j, end=\"   \")\n",
    "\n",
    "        print()  # Move to the next line\n",
    "\n",
    "# Test the function with n = 5\n",
    "print_reverse_triangle_pattern(5)\n"
   ]
  },
  {
   "cell_type": "code",
   "execution_count": null,
   "id": "bb06e201",
   "metadata": {},
   "outputs": [],
   "source": []
  },
  {
   "cell_type": "code",
   "execution_count": 5,
   "id": "9030662d",
   "metadata": {},
   "outputs": [
    {
     "name": "stdout",
     "output_type": "stream",
     "text": [
      "Result of the series: -0.4161552028218696\n"
     ]
    }
   ],
   "source": [
    "import math\n",
    "\n",
    "def series_sum(x, n):\n",
    "    result = 0\n",
    "    for i in range(n + 1):\n",
    "        term = (-1) ** i * (x ** (2 * i)) / math.factorial(2 * i)\n",
    "        result += term\n",
    "    return result\n",
    "\n",
    "# Test the function with x = 2 and n = 5\n",
    "x = 2\n",
    "n = 5\n",
    "print(\"Result of the series:\", series_sum(x, n))\n"
   ]
  },
  {
   "cell_type": "code",
   "execution_count": null,
   "id": "07970e3f",
   "metadata": {},
   "outputs": [],
   "source": [
    "# TAYLOR SERIES\n",
    "\n",
    "\n",
    "def taylor_series(x, n):\n",
    "    factorial = lambda k: 1 if k == 0 else k * factorial(k - 1)\n",
    "    sum = 0\n",
    "    for i in range(n):\n",
    "        sum += (x**i) / factorial(i)\n",
    "    return sum\n",
    "\n",
    "# Example usage\n",
    "x = float(input(\"Enter the no. : \"))\n",
    "n = int(input(\"Enter the no. : \"))\n",
    "result = taylor_series(x, n)\n",
    "print(f\"e^{x} ≈ {result}\")\n"
   ]
  },
  {
   "cell_type": "code",
   "execution_count": 4,
   "id": "0a760e42",
   "metadata": {},
   "outputs": [
    {
     "name": "stdout",
     "output_type": "stream",
     "text": [
      "Enter the No. : 6\n",
      " *   *   *   *   *   *  \n",
      " *                   *  \n",
      " *                   *  \n",
      " *                   *  \n",
      " *                   *  \n",
      " *   *   *   *   *   *  \n"
     ]
    }
   ],
   "source": [
    "N=int(input(\"Enter the No. : \"))\n",
    "for i in range(N):\n",
    "    for j in range(N):\n",
    "        if i == 0 or i == N-1 or j == 0 or j == N-1:\n",
    "            print(\" * \", end=\" \")\n",
    "        else:\n",
    "            print(\"   \", end=\" \")\n",
    "    print()"
   ]
  },
  {
   "cell_type": "code",
   "execution_count": 3,
   "id": "d5a19d87",
   "metadata": {},
   "outputs": [
    {
     "name": "stdout",
     "output_type": "stream",
     "text": [
      "Enter the No. of Row: 6\n",
      " *   *   *   *   *   *  \n",
      " *   *   *   *   *   *  \n",
      " *   *   *   *   *   *  \n",
      " *   *   *   *   *   *  \n",
      " *   *   *   *   *   *  \n",
      " *   *   *   *   *   *  \n"
     ]
    }
   ],
   "source": [
    "N=int(input(\"Enter the No. of Row: \"))    \n",
    "for i in range(N):\n",
    "    for j in range(N):\n",
    "        print(\" * \", end=\" \")\n",
    "    print( )\n"
   ]
  },
  {
   "cell_type": "code",
   "execution_count": 1,
   "id": "e428e30e",
   "metadata": {},
   "outputs": [
    {
     "name": "stdout",
     "output_type": "stream",
     "text": [
      "Enter the no. :6\n",
      "          * \n",
      "        * * * \n",
      "      * * * * * \n",
      "    * * * * * * * \n",
      "  * * * * * * * * * \n",
      "* * * * * * * * * * * \n"
     ]
    }
   ],
   "source": [
    "def print_triangle_pattern(n):\n",
    "    for i in range(1, n + 1):\n",
    "        # Print leading spaces\n",
    "        print(\" \" * (n - i) * 2, end=\"\")\n",
    "\n",
    "        # Print numbers decreasing from i to 1\n",
    "        for j in range(i, 0, -1):\n",
    "            print(\"*\", end=\" \")\n",
    "\n",
    "        # Print numbers increasing from 2 to i\n",
    "        for j in range(2, i + 1):\n",
    "            print(\"*\", end=\" \")\n",
    "\n",
    "        print()  # Move to the next line\n",
    "\n",
    "n=int(input(\"Enter the no. :\"))\n",
    "print_triangle_pattern(n)"
   ]
  },
  {
   "cell_type": "code",
   "execution_count": 34,
   "id": "502500cf",
   "metadata": {},
   "outputs": [
    {
     "name": "stdout",
     "output_type": "stream",
     "text": [
      "1 \n",
      "2 2 \n",
      "3 3 3 \n",
      "4 4 4 4 \n",
      "5 5 5 5 5 \n"
     ]
    }
   ],
   "source": [
    "rows = 5\n",
    "for i in range(1, rows+1):\n",
    "    for j in range(i):\n",
    "        print(i, end=\" \")\n",
    "    print()"
   ]
  },
  {
   "cell_type": "code",
   "execution_count": 35,
   "id": "798095fd",
   "metadata": {},
   "outputs": [
    {
     "name": "stdout",
     "output_type": "stream",
     "text": [
      "  1 2 3 4 5 \n",
      "    2 3 4 5 \n",
      "      3 4 5 \n",
      "        4 5 \n",
      "          5 \n"
     ]
    }
   ],
   "source": [
    "def pattern(s):\n",
    "    for i in range(1, s+1):\n",
    "        for j in range(i):\n",
    "            print(\" \", end=\" \")\n",
    "        for k in range(i, s+1):\n",
    "            print(k, end=\" \")\n",
    "        print()\n",
    "pattern(5)"
   ]
  }
 ],
 "metadata": {
  "kernelspec": {
   "display_name": "Python 3 (ipykernel)",
   "language": "python",
   "name": "python3"
  },
  "language_info": {
   "codemirror_mode": {
    "name": "ipython",
    "version": 3
   },
   "file_extension": ".py",
   "mimetype": "text/x-python",
   "name": "python",
   "nbconvert_exporter": "python",
   "pygments_lexer": "ipython3",
   "version": "3.11.5"
  }
 },
 "nbformat": 4,
 "nbformat_minor": 5
}
